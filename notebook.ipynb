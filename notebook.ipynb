{
 "cells": [
  {
   "cell_type": "code",
   "execution_count": 1,
   "metadata": {
    "pycharm": {
     "name": "#%%\n"
    },
    "tags": []
   },
   "outputs": [],
   "source": [
    "import random\n",
    "import math\n",
    "import numpy as np\n",
    "from matplotlib import pyplot as plt\n",
    "from time import sleep\n",
    "from world import World\n",
    "from agent_simple_random import Agent_simple_random \n",
    "from agent_hemilton_cycle import Agent_hemilton_cycle\n",
    "import ipywidgets as widgets\n",
    "from ipywidgets import interactive\n",
    "%matplotlib inline\n",
    "import copy"
   ]
  },
  {
   "cell_type": "code",
   "execution_count": 2,
   "metadata": {
    "pycharm": {
     "name": "#%%\n"
    },
    "tags": []
   },
   "outputs": [],
   "source": [
    "# %matplotlib tk\n",
    "# plt.ion()"
   ]
  },
  {
   "cell_type": "code",
   "execution_count": 3,
   "metadata": {},
   "outputs": [],
   "source": [
    "def game(agent, w, plot=False):\n",
    "    if plot: fig, ax = plt.subplots()\n",
    "    while not w.game_over:\n",
    "        agent_decision = agent.move(*w.view_3_end())\n",
    "        w.step(agent_decision)\n",
    "        if plot:\n",
    "            ax.matshow(w.obs, origin='upper')\n",
    "            plt.pause(0.01)\n",
    "            sleep(0.01)\n",
    "\n",
    "    # print(f'score {w.score}, steps {w.steps}')\n",
    "    #return w\n",
    "\n",
    "\n",
    "\n",
    "def play_games(Agent_class, n):\n",
    "    scores = []\n",
    "    step_counts = []\n",
    "    for ii in range(n):\n",
    "        agent = Agent_class()\n",
    "        w = World()\n",
    "        game(agent, w)\n",
    "        scores.append(w.score)\n",
    "        step_counts.append(w.steps)\n",
    "\n",
    "    plt.plot(scores, '.')\n",
    "    plt.ylim(0,63)\n",
    "    plt.ylabel('score')\n",
    "    plt.xlabel('game')"
   ]
  },
  {
   "cell_type": "code",
   "execution_count": 4,
   "metadata": {},
   "outputs": [
    {
     "data": {
      "text/plain": [
       "░░░░            |\n",
       "░░░░            |\n",
       "░░              |\n",
       "                |\n",
       "            ◯◯  |\n",
       "                |\n",
       "                |\n",
       "                | score=3 steps=48  Game Over"
      ]
     },
     "execution_count": 4,
     "metadata": {},
     "output_type": "execute_result"
    }
   ],
   "source": [
    "# agent = Agent_hemilton_cycle()\n",
    "agent = Agent_simple_random()\n",
    "w = World()\n",
    "game(agent, w, plot=False)\n",
    "w "
   ]
  },
  {
   "cell_type": "code",
   "execution_count": 5,
   "metadata": {
    "collapsed": false,
    "jupyter": {
     "outputs_hidden": false
    },
    "pycharm": {
     "name": "#%%\n"
    }
   },
   "outputs": [
    {
     "data": {
      "application/vnd.jupyter.widget-view+json": {
       "model_id": "f51be59964e64477b474e17dd11a6d26",
       "version_major": 2,
       "version_minor": 0
      },
      "text/plain": [
       "interactive(children=(IntSlider(value=24, description='step', max=48), Output(layout=Layout(height='450px'))),…"
      ]
     },
     "execution_count": 5,
     "metadata": {},
     "output_type": "execute_result"
    }
   ],
   "source": [
    "w.replay()"
   ]
  },
  {
   "cell_type": "code",
   "execution_count": 6,
   "metadata": {},
   "outputs": [
    {
     "data": {
      "image/png": "[encoded data removed]",
      "text/plain": [
       "<Figure size 640x480 with 1 Axes>"
      ]
     },
     "metadata": {},
     "output_type": "display_data"
    }
   ],
   "source": [
    "play_games(Agent_simple_random, 29)"
   ]
  },
  {
   "cell_type": "code",
   "execution_count": null,
   "metadata": {},
   "outputs": [],
   "source": []
  },
  {
   "cell_type": "code",
   "execution_count": 7,
   "metadata": {},
   "outputs": [
    {
     "data": {
      "text/plain": [
       "░░░░            |\n",
       "░░░░            |\n",
       "░░              |\n",
       "                |\n",
       "            ◯◯  |\n",
       "                |\n",
       "                |\n",
       "                | score=3 steps=48  Game Over"
      ]
     },
     "execution_count": 7,
     "metadata": {},
     "output_type": "execute_result"
    }
   ],
   "source": [
    "w"
   ]
  },
  {
   "cell_type": "code",
   "execution_count": null,
   "metadata": {},
   "outputs": [],
   "source": []
  },
  {
   "cell_type": "code",
   "execution_count": 8,
   "metadata": {
    "collapsed": false,
    "jupyter": {
     "outputs_hidden": false
    },
    "pycharm": {
     "name": "#%%\n"
    }
   },
   "outputs": [
    {
     "ename": "ZeroDivisionError",
     "evalue": "division by zero",
     "output_type": "error",
     "traceback": [
      "\u001b[0;31m---------------------------------------------------------------------------\u001b[0m",
      "\u001b[0;31mZeroDivisionError\u001b[0m                         Traceback (most recent call last)",
      "Input \u001b[0;32mIn [8]\u001b[0m, in \u001b[0;36m<cell line: 1>\u001b[0;34m()\u001b[0m\n\u001b[0;32m----> 1\u001b[0m \u001b[38;5;241;43m1\u001b[39;49m\u001b[38;5;241;43m/\u001b[39;49m\u001b[38;5;241;43m0\u001b[39;49m\n",
      "\u001b[0;31mZeroDivisionError\u001b[0m: division by zero"
     ]
    }
   ],
   "source": [
    "1/0"
   ]
  },
  {
   "cell_type": "markdown",
   "metadata": {},
   "source": [
    "# Genetic"
   ]
  },
  {
   "cell_type": "code",
   "execution_count": 30,
   "metadata": {},
   "outputs": [],
   "source": [
    "class Agent_genetic_3():\n",
    "    def __init__(self):\n",
    "        self.input_size = 6\n",
    "        self.hidden_layers = [3]\n",
    "        self.weights = []\n",
    "        self.biases = []\n",
    "        self._create_layer(self.input_size, self.hidden_layers[0])\n",
    "        self._create_layer(self.hidden_layers[0], 3)\n",
    "        self._zip = list(zip(self.weights, self.biases))\n",
    "\n",
    "    def _create_layer(self, n_inputs, n_neurons):\n",
    "        self.weights.append(0.01 * np.random.randn(n_inputs, n_neurons))\n",
    "        self.biases.append(0.01 * np.random.randn(n_neurons))\n",
    "\n",
    "    # def _create_layer(self, n_inputs, n_neurons):\n",
    "    #     self.weights.append(np.ones([n_inputs, n_neurons]))\n",
    "    #     self.biases.append(np.ones(n_neurons))\n",
    "\n",
    "    def forward(self, inputs):\n",
    "        activations = inputs\n",
    "        for weights, biases in self._zip:\n",
    "            activations = activations @ weights + biases\n",
    "            activations = 1 / (1 + math.e ** (-activations))\n",
    "        return activations\n",
    "\n",
    "    \n",
    "    def create_input(self, info_left, distance_left, info_forward, distance_forward, info_right, distance_right):\n",
    "        pass\n",
    "    \n",
    "    def move(self, *args):\n",
    "        input = np.array(args)\n",
    "        output = self.forward(input)\n",
    "        res = output.argmax() - 1\n",
    "        # print(res)\n",
    "        return res\n",
    "    \n",
    "    def mutate(self):\n",
    "        idx1 = random.choice([0, 1])\n",
    "        len2 = len(self.weights[idx1])\n",
    "        ll = [range(len2)]\n",
    "        idx2 = random.choice(ll)\n",
    "        idx3 = random.choice([0, 1, 2])\n",
    "        self.weights[idx1][idx2][idx3] += 0.01 * np.random.randn(1)\n",
    "        return self"
   ]
  },
  {
   "cell_type": "code",
   "execution_count": 10,
   "metadata": {},
   "outputs": [
    {
     "data": {
      "text/plain": [
       "[array([[ 0.01188245, -0.01678457, -0.00263754],\n",
       "        [-0.00516641, -0.01060867, -0.0076103 ],\n",
       "        [ 0.00459567,  0.00139844,  0.01391651],\n",
       "        [-0.00096445, -0.01465263, -0.01823056],\n",
       "        [ 0.00074194,  0.00411812,  0.00230662],\n",
       "        [-0.01519794,  0.00186995, -0.03486493]]),\n",
       " array([[-0.01826497, -0.0014007 , -0.00813016],\n",
       "        [ 0.00305174, -0.00403871, -0.00242303],\n",
       "        [ 0.00970981, -0.00697276, -0.01772831]])]"
      ]
     },
     "execution_count": 10,
     "metadata": {},
     "output_type": "execute_result"
    }
   ],
   "source": [
    "a = Agent_genetic_3()\n",
    "a_w = a.weights\n",
    "a_w"
   ]
  },
  {
   "cell_type": "code",
   "execution_count": 11,
   "metadata": {},
   "outputs": [
    {
     "ename": "NameError",
     "evalue": "name 'b' is not defined",
     "output_type": "error",
     "traceback": [
      "\u001b[0;31m---------------------------------------------------------------------------\u001b[0m",
      "\u001b[0;31mNameError\u001b[0m                                 Traceback (most recent call last)",
      "Input \u001b[0;32mIn [11]\u001b[0m, in \u001b[0;36m<cell line: 3>\u001b[0;34m()\u001b[0m\n\u001b[1;32m      1\u001b[0m w \u001b[38;5;241m=\u001b[39m World()\n\u001b[0;32m----> 3\u001b[0m game(\u001b[43mb\u001b[49m, w, plot\u001b[38;5;241m=\u001b[39m\u001b[38;5;28;01mTrue\u001b[39;00m)\n",
      "\u001b[0;31mNameError\u001b[0m: name 'b' is not defined"
     ]
    }
   ],
   "source": [
    "w = World()\n",
    "\n",
    "game(b, w, plot=True)"
   ]
  },
  {
   "cell_type": "code",
   "execution_count": 12,
   "metadata": {},
   "outputs": [
    {
     "data": {
      "text/plain": [
       "[array([[ 0.01188245, -0.01678457, -0.00263754],\n",
       "        [-0.00516641, -0.01060867, -0.0076103 ],\n",
       "        [ 0.00459567,  0.00139844,  0.01391651],\n",
       "        [-0.00096445, -0.01465263, -0.01823056],\n",
       "        [ 0.00074194,  0.00411812,  0.00230662],\n",
       "        [-0.01519794,  0.00186995, -0.03486493]]),\n",
       " array([[-0.01826497, -0.0014007 , -0.00813016],\n",
       "        [ 0.00305174, -0.00403871, -0.00242303],\n",
       "        [ 0.00970981, -0.00697276, -0.01772831]])]"
      ]
     },
     "execution_count": 12,
     "metadata": {},
     "output_type": "execute_result"
    }
   ],
   "source": [
    "b = copy.copy(a)\n",
    "b_w = b.weights\n",
    "b_w"
   ]
  },
  {
   "cell_type": "code",
   "execution_count": 13,
   "metadata": {},
   "outputs": [
    {
     "data": {
      "text/plain": [
       "[array([[ 0.01188245, -0.01678457, -0.00263754],\n",
       "        [-0.00516641, -0.01060867, -0.0076103 ],\n",
       "        [ 0.00459567,  0.00139844,  0.01391651],\n",
       "        [-0.00096445, -0.01465263, -0.01823056],\n",
       "        [ 0.00074194,  0.00411812,  0.00230662],\n",
       "        [-0.01519794,  0.00186995, -0.03486493]]),\n",
       " array([[-0.01826497, -0.0014007 , -0.00813016],\n",
       "        [ 0.00305174, -0.00403871, -0.00242303],\n",
       "        [ 0.00970981, -0.00697276, -0.01772831]])]"
      ]
     },
     "execution_count": 13,
     "metadata": {},
     "output_type": "execute_result"
    }
   ],
   "source": [
    "b_w"
   ]
  },
  {
   "cell_type": "code",
   "execution_count": 26,
   "metadata": {},
   "outputs": [
    {
     "data": {
      "text/plain": [
       "[array([[ 1.18824475e-02, -1.67845689e-02, -2.63753597e-03],\n",
       "        [ 2.00000000e+00,  2.00000000e+00,  5.00000000e+00],\n",
       "        [ 4.59567494e-03,  1.39844110e-03,  1.39165073e-02],\n",
       "        [-9.64445981e-04, -1.46526329e-02, -1.82305607e-02],\n",
       "        [ 7.41941379e-04,  4.11812003e-03,  2.30662172e-03],\n",
       "        [-1.51979429e-02,  1.86995041e-03, -3.48649328e-02]]),\n",
       " array([[-1.82649652e-02, -1.40069753e-03, -8.13015909e-03],\n",
       "        [ 3.05173877e-03, -4.03871101e-03,  5.00000000e+00],\n",
       "        [ 9.70980503e-03, -6.97276051e-03, -1.77283089e-02]])]"
      ]
     },
     "execution_count": 26,
     "metadata": {},
     "output_type": "execute_result"
    }
   ],
   "source": [
    "a_w[1][1][2] = 5.0\n",
    "a_w"
   ]
  },
  {
   "cell_type": "code",
   "execution_count": 15,
   "metadata": {},
   "outputs": [
    {
     "ename": "SyntaxError",
     "evalue": "invalid syntax (3919627907.py, line 1)",
     "output_type": "error",
     "traceback": [
      "\u001b[0;36m  Input \u001b[0;32mIn [15]\u001b[0;36m\u001b[0m\n\u001b[0;31m    copy pointer, deepcopy komplet\u001b[0m\n\u001b[0m         ^\u001b[0m\n\u001b[0;31mSyntaxError\u001b[0m\u001b[0;31m:\u001b[0m invalid syntax\n"
     ]
    }
   ],
   "source": [
    "copy pointer, deepcopy komplet"
   ]
  },
  {
   "cell_type": "code",
   "execution_count": 16,
   "metadata": {},
   "outputs": [
    {
     "data": {
      "application/vnd.jupyter.widget-view+json": {
       "model_id": "9bc99984f7f0413ba805d25d4577d238",
       "version_major": 2,
       "version_minor": 0
      },
      "text/plain": [
       "interactive(children=(IntSlider(value=0, description='step', max=0), Output(layout=Layout(height='450px'))), _…"
      ]
     },
     "execution_count": 16,
     "metadata": {},
     "output_type": "execute_result"
    }
   ],
   "source": [
    "w.replay()"
   ]
  },
  {
   "cell_type": "code",
   "execution_count": null,
   "metadata": {},
   "outputs": [],
   "source": []
  },
  {
   "cell_type": "code",
   "execution_count": 41,
   "metadata": {},
   "outputs": [
    {
     "ename": "TypeError",
     "evalue": "play_round() takes 1 positional argument but 2 were given",
     "output_type": "error",
     "traceback": [
      "\u001b[0;31m---------------------------------------------------------------------------\u001b[0m",
      "\u001b[0;31mTypeError\u001b[0m                                 Traceback (most recent call last)",
      "Input \u001b[0;32mIn [41]\u001b[0m, in \u001b[0;36m<cell line: 55>\u001b[0;34m()\u001b[0m\n\u001b[1;32m     50\u001b[0m         \u001b[38;5;28mself\u001b[39m\u001b[38;5;241m.\u001b[39mbreed(selected)\n\u001b[1;32m     54\u001b[0m br \u001b[38;5;241m=\u001b[39m Breeder(Agent_genetic_3)\n\u001b[0;32m---> 55\u001b[0m \u001b[43mbr\u001b[49m\u001b[38;5;241;43m.\u001b[39;49m\u001b[43mcreate_generations\u001b[49m\u001b[43m(\u001b[49m\u001b[43m)\u001b[49m\n",
      "Input \u001b[0;32mIn [41]\u001b[0m, in \u001b[0;36mBreeder.create_generations\u001b[0;34m(self)\u001b[0m\n\u001b[1;32m     46\u001b[0m \u001b[38;5;28;01mdef\u001b[39;00m \u001b[38;5;21mcreate_generations\u001b[39m(\u001b[38;5;28mself\u001b[39m):\n\u001b[1;32m     47\u001b[0m     \u001b[38;5;66;03m# for generation in range(num_of_gens-1):\u001b[39;00m\n\u001b[0;32m---> 48\u001b[0m     \u001b[38;5;28;43mself\u001b[39;49m\u001b[38;5;241;43m.\u001b[39;49m\u001b[43mplay_round\u001b[49m\u001b[43m(\u001b[49m\u001b[43magent\u001b[49m\u001b[43m)\u001b[49m\n\u001b[1;32m     49\u001b[0m     selected \u001b[38;5;241m=\u001b[39m \u001b[38;5;28mself\u001b[39m\u001b[38;5;241m.\u001b[39mselect_agents()\n\u001b[1;32m     50\u001b[0m     \u001b[38;5;28mself\u001b[39m\u001b[38;5;241m.\u001b[39mbreed(selected)\n",
      "\u001b[0;31mTypeError\u001b[0m: play_round() takes 1 positional argument but 2 were given"
     ]
    }
   ],
   "source": [
    "class Breeder():\n",
    "    def __init__(self, agent_class):\n",
    "        self.agents_per_gen = 10\n",
    "        self.select_percentage = 10\n",
    "        self.games_per_agent = 100\n",
    "        self.agent_class = agent_class\n",
    "        self.agents = np.array([agent_class() for x in range(self.agents_per_gen)])\n",
    "        \n",
    "            \n",
    "   \n",
    "    \n",
    "    def play_round(self):\n",
    "        scores = []\n",
    "        steps = []\n",
    "        for agent in self.agents:\n",
    "            agent_scores = []\n",
    "            agent_steps = []\n",
    "            for gg in range(self.games_per_agent):\n",
    "                w = World()\n",
    "                game(agent, w)\n",
    "                agent_scores.append(w.score)\n",
    "                agent_steps.append(w.steps)\n",
    "            scores.append(agent_scores)\n",
    "            steps.append(agent_steps)\n",
    "        self.scores = np.array(scores)\n",
    "        self.steps = np.array(steps)\n",
    "        \n",
    "\n",
    "    def select_agents(self):\n",
    "        n = int(math.ceil(self.select_percentage/100 * self.agents_per_gen))\n",
    "        mean_scores = self.scores.mean(axis=1)\n",
    "        indices = np.argsort(mean_scores)[-n:]\n",
    "        return self.agents[indices]\n",
    "    \n",
    "    def procreate_agent(self, agent):\n",
    "        agent = copy.deepcopy(agent)\n",
    "        print(agent)\n",
    "        agent.mutate()\n",
    "        print(agent)\n",
    "        return agent\n",
    "    \n",
    "    def breed(self, agents): #vybereme agenty, ktere zmutujeme\n",
    "        self.agents = np.array([self.procreate_agent(random.choice(agents)) for x in range(self.agents_per_gen)])\n",
    "\n",
    "    \n",
    "    def create_generations(self):\n",
    "        # for generation in range(num_of_gens-1):\n",
    "        self.play_round(agent)\n",
    "        selected = self.select_agents()\n",
    "        self.breed(selected)\n",
    "\n",
    "        \n",
    "        \n",
    "br = Breeder(Agent_genetic_3)\n",
    "br.create_generations()\n"
   ]
  },
  {
   "cell_type": "code",
   "execution_count": 18,
   "metadata": {},
   "outputs": [
    {
     "name": "stdout",
     "output_type": "stream",
     "text": [
      "CPU times: user 30.9 s, sys: 567 ms, total: 31.4 s\n",
      "Wall time: 30.7 s\n"
     ]
    }
   ],
   "source": [
    "%%time\n",
    "br.play_round()"
   ]
  },
  {
   "cell_type": "code",
   "execution_count": 19,
   "metadata": {},
   "outputs": [
    {
     "data": {
      "text/plain": [
       "array([0.02, 0.04, 0.04, 0.02, 0.04, 0.06, 0.03, 0.03, 0.04, 0.04])"
      ]
     },
     "execution_count": 19,
     "metadata": {},
     "output_type": "execute_result"
    }
   ],
   "source": [
    "br.scores.mean(axis=1)"
   ]
  },
  {
   "cell_type": "code",
   "execution_count": 20,
   "metadata": {},
   "outputs": [
    {
     "data": {
      "text/plain": [
       "array([<__main__.Agent_genetic_3 object at 0x7ff975c63c70>], dtype=object)"
      ]
     },
     "execution_count": 20,
     "metadata": {},
     "output_type": "execute_result"
    }
   ],
   "source": [
    "br.select_agents()"
   ]
  },
  {
   "cell_type": "code",
   "execution_count": 21,
   "metadata": {},
   "outputs": [
    {
     "data": {
      "text/plain": [
       "array([<__main__.Agent_genetic_3 object at 0x7ff975c60b80>,\n",
       "       <__main__.Agent_genetic_3 object at 0x7ff975c60d60>,\n",
       "       <__main__.Agent_genetic_3 object at 0x7ff975c60dc0>,\n",
       "       <__main__.Agent_genetic_3 object at 0x7ff975c63bb0>,\n",
       "       <__main__.Agent_genetic_3 object at 0x7ff975c63c10>,\n",
       "       <__main__.Agent_genetic_3 object at 0x7ff975c63c70>,\n",
       "       <__main__.Agent_genetic_3 object at 0x7ff975c63cd0>,\n",
       "       <__main__.Agent_genetic_3 object at 0x7ff975c63d30>,\n",
       "       <__main__.Agent_genetic_3 object at 0x7ff975c63d90>,\n",
       "       <__main__.Agent_genetic_3 object at 0x7ff975c63df0>], dtype=object)"
      ]
     },
     "execution_count": 21,
     "metadata": {},
     "output_type": "execute_result"
    }
   ],
   "source": [
    "br.agents"
   ]
  },
  {
   "cell_type": "code",
   "execution_count": null,
   "metadata": {},
   "outputs": [],
   "source": []
  },
  {
   "cell_type": "code",
   "execution_count": null,
   "metadata": {},
   "outputs": [],
   "source": []
  },
  {
   "cell_type": "code",
   "execution_count": null,
   "metadata": {},
   "outputs": [],
   "source": []
  },
  {
   "cell_type": "code",
   "execution_count": null,
   "metadata": {},
   "outputs": [],
   "source": []
  },
  {
   "cell_type": "code",
   "execution_count": null,
   "metadata": {},
   "outputs": [],
   "source": []
  },
  {
   "cell_type": "code",
   "execution_count": null,
   "metadata": {},
   "outputs": [],
   "source": []
  },
  {
   "cell_type": "code",
   "execution_count": null,
   "metadata": {},
   "outputs": [],
   "source": []
  },
  {
   "cell_type": "code",
   "execution_count": null,
   "metadata": {},
   "outputs": [],
   "source": []
  },
  {
   "cell_type": "code",
   "execution_count": null,
   "metadata": {
    "collapsed": false,
    "jupyter": {
     "outputs_hidden": false
    },
    "pycharm": {
     "name": "#%%\n"
    }
   },
   "outputs": [],
   "source": [
    "1/0"
   ]
  },
  {
   "cell_type": "markdown",
   "metadata": {
    "pycharm": {
     "name": "#%% md\n"
    }
   },
   "source": [
    "# Agent genetic"
   ]
  },
  {
   "cell_type": "code",
   "execution_count": null,
   "metadata": {
    "collapsed": false,
    "jupyter": {
     "outputs_hidden": false
    },
    "pycharm": {
     "name": "#%%\n"
    }
   },
   "outputs": [],
   "source": [
    "import numpy as np\n",
    "#import tensorflow as tf\n",
    "#from tensorflow.python.keras.layers import Dense\n",
    "#from tensorflow.python.keras.models import Sequential\n",
    "#from tensorflow.python.keras.optimizer_v2.adam import Adam\n",
    "import sys\n",
    "import numpy as  np\n",
    "import matplotlib\n",
    "from . import serverConfig as sc, server as srvr, clientBase as cb, enums\n",
    "from modules.GeneticAI import Activation_ReLU as relu, Dense_Layer as denl\n",
    "import logging, sys\n",
    "\n",
    "class ClientGenetic(cb.ClientBase):\n",
    "\n",
    "    # properties ------------\n",
    "    server = object\n",
    "    inputLayer = np.zeros(1)\n",
    "\n",
    "    # ctor -----------\n",
    "\n",
    "    def init(self):\n",
    "        self.server = srvr.Server(sc.ServerConfig(enums.serverModes.Auto, 1, self.fpsCallback, self.newGameCallback, 10000))\n",
    "\n",
    "    # public ------------\n",
    "\n",
    "    def fpsCallback(self, movesRemaining):\n",
    "        print(movesRemaining)\n",
    "\n",
    "        return enums.directions.Skip\n",
    "\n",
    "    def newGameCallback(self, gamesRemaining):\n",
    "        pass\n",
    "\n",
    "    # private ------------\n",
    "\n",
    "    def preprocess_state(self):  # world and look_dir could be parameters\n",
    "        # finding look_dir in order to know which objects are on our right etc.\n",
    "        head = None\n",
    "        neck = None\n",
    "        body = None\n",
    "        tail = None\n",
    "        tail_value = 0\n",
    "        world = server.getGameState().world\n",
    "        size = server.getGameState().width\n",
    "        #for y in range(size):\n",
    "        #    for x in range(size):\n",
    "        #        if world[y][x] == 1:\n",
    "        #            head = [y, x]\n",
    "        #            world[y][x] += 1\n",
    "        #        elif world[y][x] == 2:\n",
    "        #            neck = [y, x]\n",
    "        #            world[y][x] += 1\n",
    "        #        elif world[y][x] > 2:\n",
    "        #            body = [y, x]\n",
    "        #            world[y][x] += 1\n",
    "        #        if world[y][x] > tail_value:\n",
    "        #            tail = [y, x]\n",
    "        #            tail_value = world[y][x]\n",
    "\n",
    "        y = head[0] - neck[0]\n",
    "        x = head[1] - neck[1]\n",
    "        look_dir = [y, x]\n",
    "\n",
    "        look_dirs = [[0, -1], [-1, 0], [0, 1], [1, 0]]\n",
    "        look_dir_index = look_dirs.index(look_dir)\n",
    "        info_left = []\n",
    "        distance_left = []  # actually its positions\n",
    "        info_forward = []\n",
    "        distance_forward = []\n",
    "        info_right = []\n",
    "        distance_right = []\n",
    "\n",
    "        for ii in range(1, 4):\n",
    "            shift_left = look_dirs[look_dir_index - 1]\n",
    "            pixel_left_y = head[0] + ii * (shift_left[0])\n",
    "            pixel_left_x = head[1] + ii * (shift_left[1])\n",
    "            if (pixel_left_x > size - 1) or (pixel_left_y > size - 1) or (pixel_left_x < 0) or (\n",
    "                    pixel_left_y < 0):  # if we can still move\n",
    "                info_left.append(-2)\n",
    "                distance_left.append(ii)\n",
    "                break\n",
    "            if world[pixel_left_y][pixel_left_x] != 0:\n",
    "                info_left.append(world[pixel_left_y][pixel_left_x])\n",
    "                distance_left.append(ii)\n",
    "\n",
    "        for ii in range(1, 4):\n",
    "            shift_forward = look_dirs[look_dir_index]\n",
    "            pixel_forward_y = head[0] + ii * (shift_forward[0])\n",
    "            pixel_forward_x = head[1] + ii * (shift_forward[1])\n",
    "            if (pixel_forward_x > size - 1) or (pixel_forward_y > size - 1) or (pixel_forward_x < 0) or (\n",
    "                    pixel_forward_y < 0):  # if we can still move\n",
    "                info_forward.append(-2)\n",
    "                distance_forward.append(ii)\n",
    "                break\n",
    "            if world[pixel_forward_y][pixel_forward_x] != 0:\n",
    "                info_forward.append(world[pixel_forward_y][pixel_forward_x])\n",
    "                distance_forward.append(ii)\n",
    "\n",
    "        for ii in range(1, 4):\n",
    "            if look_dir_index == 3:\n",
    "                shift_right = look_dirs[0]\n",
    "            else:\n",
    "                shift_right = look_dirs[look_dir_index + 1]\n",
    "            pixel_right_y = head[0] + ii * (shift_right[0])\n",
    "            pixel_right_x = head[1] + ii * (shift_right[1])\n",
    "            if (pixel_right_x > size - 1) or (pixel_right_y > size - 1) or (pixel_right_x < 0) or (\n",
    "                    pixel_right_y < 0):  # if we can still move\n",
    "                info_right.append(-2)\n",
    "                distance_right.append(ii)\n",
    "                break\n",
    "            if world[pixel_right_y][pixel_right_x] != 0:\n",
    "                info_right.append(world[pixel_right_y][pixel_right_x])\n",
    "                distance_right.append(ii)\n",
    "\n",
    "        if len(distance_left) != 0:\n",
    "            input_layer[0] = 1 if ((distance_left[0] == 1) and (\n",
    "                        (info_left[0] > 1 and info_left[0] != tail_value) or info_left[\n",
    "                    0] == -2)) else 0  # there is an obsticle on the left (distance 1)\n",
    "        if len(distance_forward) != 0:\n",
    "            input_layer[1] = 1 if ((distance_forward[0] == 1) and (\n",
    "                        (info_forward[0] > 1 and info_forward[0] != tail_value) or info_forward[0] == -2)) else 0\n",
    "        if len(distance_right) != 0:\n",
    "            input_layer[2] = 1 if ((distance_right[0] == 1) and (\n",
    "                        (info_right[0] > 1 and info_right[0] != tail_value) or info_right[0] == -2)) else 0\n",
    "        input_layer[3] = 1 if (-1 in info_left) else 0  # food in range 3 to the right\n",
    "        input_layer[4] = 1 if (-1 in info_forward) else 0\n",
    "        input_layer[5] = 1 if (-1 in info_right) else 0\n",
    "\n",
    "        return input_layer\n",
    "\n",
    "\n",
    "def onehot_encode(index, length):\n",
    "    a = np.zeros((length,), dtype=np.uint8)\n",
    "    a[index] = 1\n",
    "    return a\n",
    "\n",
    "\n",
    "\n",
    "X = preprocess_state(GameState.world) #instead of obs\n",
    "\n",
    "\n",
    "X = preprocess_state()\n",
    "\n",
    "# Dense layer\n",
    "class Layer_Dense:\n",
    " # Layer initialization\n",
    "    def __init__(self, n_inputs, n_neurons):\n",
    "        # Initialize weights and biases\n",
    "        self.weights = 0.10 * np.random.randn(n_inputs, n_neurons) #already transposed matrix of weights for every neuron\n",
    "        self.biases = np.zeros((1, n_neurons))\n",
    "    # Forward pass\n",
    "    def forward(self, inputs):\n",
    "    # Calculate output values from inputs, weights and biases\n",
    "        self.output = np.dot(inputs, self.weights) + self.biases\n",
    "\n",
    "# ReLU activation\n",
    "class Activation_ReLU:\n",
    "     # Forward pass\n",
    "     def forward(self, inputs):\n",
    "         # Calculate output values from input\n",
    "         self.output = np.maximum(0, inputs)\n",
    "\n",
    "dense1 = denl.Layer_Dense(6, 5)\n",
    "\n",
    "activation1 = relu.Activation_ReLU()\n",
    "#print(activation1.output)\n",
    "\n",
    "dense1.forward(X)\n",
    "#print(dense1.output)\n",
    "\n",
    "activation1.forward(dense1.output)\n",
    "\n",
    "print(activation1.output[:5])\n",
    "\n",
    "\n",
    "\n",
    "#\n",
    "# layer2 = Layer_Dense(5, 3)\n",
    "#\n",
    "#\n",
    "# print(layer1)\n",
    "# layer2.forward(layer1.output)\n",
    "# print(layer2.output)\n",
    "\n",
    "\n",
    "# In[ ]:\n",
    "\n",
    "\n",
    "\n",
    "\n",
    "\n",
    "# In[ ]:\n",
    "\n",
    "\n",
    "#output 2. vrstvy\n",
    "#plan:\n",
    "#batches neresime, 2 dense layers, vahy random, aktivacni fce, input, output\n"
   ]
  }
 ],
 "metadata": {
  "kernelspec": {
   "display_name": "snake",
   "language": "python",
   "name": "snake"
  },
  "language_info": {
   "codemirror_mode": {
    "name": "ipython",
    "version": 3
   },
   "file_extension": ".py",
   "mimetype": "text/x-python",
   "name": "python",
   "nbconvert_exporter": "python",
   "pygments_lexer": "ipython3",
   "version": "3.9.13"
  }
 },
 "nbformat": 4,
 "nbformat_minor": 4
}
