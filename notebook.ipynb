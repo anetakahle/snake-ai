{
 "cells": [
  {
   "cell_type": "code",
   "execution_count": 19,
   "metadata": {
    "pycharm": {
     "name": "#%%\n"
    },
    "tags": []
   },
   "outputs": [],
   "source": [
    "import random\n",
    "import math\n",
    "import numpy as np\n",
    "from matplotlib import pyplot as plt\n",
    "from time import sleep\n",
    "from world import World\n",
    "from agent_simple_random import Agent_simple_random \n",
    "from agent_hemilton_cycle import Agent_hemilton_cycle\n",
    "import ipywidgets as widgets\n",
    "from ipywidgets import interactive\n",
    "%matplotlib inline\n",
    "import copy"
   ]
  },
  {
   "cell_type": "code",
   "execution_count": 2,
   "metadata": {
    "pycharm": {
     "name": "#%%\n"
    },
    "tags": []
   },
   "outputs": [],
   "source": [
    "# %matplotlib tk\n",
    "# plt.ion()"
   ]
  },
  {
   "cell_type": "code",
   "execution_count": 3,
   "metadata": {},
   "outputs": [],
   "source": [
    "def game(agent, w, plot=False):\n",
    "    if plot: fig, ax = plt.subplots()\n",
    "    while not w.game_over:\n",
    "        agent_decision = agent.move(*w.view_3_end())\n",
    "        w.step(agent_decision)\n",
    "        if plot:\n",
    "            ax.matshow(w.obs, origin='upper')\n",
    "            plt.pause(0.01)\n",
    "            sleep(0.01)\n",
    "\n",
    "    # print(f'score {w.score}, steps {w.steps}')\n",
    "    #return w\n",
    "\n",
    "\n",
    "\n",
    "def play_games(Agent_class, n):\n",
    "    scores = []\n",
    "    step_counts = []\n",
    "    for ii in range(n):\n",
    "        agent = Agent_class()\n",
    "        w = World()\n",
    "        game(agent, w)\n",
    "        scores.append(w.score)\n",
    "        step_counts.append(w.steps)\n",
    "\n",
    "    plt.plot(scores, '.')\n",
    "    plt.ylim(0,63)\n",
    "    plt.ylabel('score')\n",
    "    plt.xlabel('game')"
   ]
  },
  {
   "cell_type": "code",
   "execution_count": 6,
   "metadata": {},
   "outputs": [
    {
     "data": {
      "text/plain": [
       "          ◯◯    |\n",
       "                |\n",
       "                |\n",
       "                |\n",
       "        ░░░░░░  |\n",
       "        ░░░░░░  |\n",
       "          ░░░░  |\n",
       "                | score=6 steps=78  Game Over"
      ]
     },
     "execution_count": 6,
     "metadata": {},
     "output_type": "execute_result"
    }
   ],
   "source": [
    "# agent = Agent_hemilton_cycle()\n",
    "agent = Agent_simple_random()\n",
    "w = World()\n",
    "game(agent, w, plot=False)\n",
    "w "
   ]
  },
  {
   "cell_type": "code",
   "execution_count": 7,
   "metadata": {
    "collapsed": false,
    "jupyter": {
     "outputs_hidden": false
    },
    "pycharm": {
     "name": "#%%\n"
    }
   },
   "outputs": [
    {
     "data": {
      "application/vnd.jupyter.widget-view+json": {
       "model_id": "9e0a6b483c404f6092382e412bc19c85",
       "version_major": 2,
       "version_minor": 0
      },
      "text/plain": [
       "interactive(children=(IntSlider(value=39, description='step', max=78), Output(layout=Layout(height='450px'))),…"
      ]
     },
     "execution_count": 7,
     "metadata": {},
     "output_type": "execute_result"
    }
   ],
   "source": [
    "w.replay()"
   ]
  },
  {
   "cell_type": "code",
   "execution_count": 8,
   "metadata": {},
   "outputs": [
    {
     "data": {
      "image/png": "[encoded data removed]",
      "text/plain": [
       "<Figure size 640x480 with 1 Axes>"
      ]
     },
     "metadata": {},
     "output_type": "display_data"
    }
   ],
   "source": [
    "play_games(Agent_simple_random, 29)"
   ]
  },
  {
   "cell_type": "code",
   "execution_count": null,
   "metadata": {},
   "outputs": [],
   "source": []
  },
  {
   "cell_type": "code",
   "execution_count": 9,
   "metadata": {},
   "outputs": [
    {
     "data": {
      "text/plain": [
       "          ◯◯    |\n",
       "                |\n",
       "                |\n",
       "                |\n",
       "        ░░░░░░  |\n",
       "        ░░░░░░  |\n",
       "          ░░░░  |\n",
       "                | score=6 steps=78  Game Over"
      ]
     },
     "execution_count": 9,
     "metadata": {},
     "output_type": "execute_result"
    }
   ],
   "source": [
    "w"
   ]
  },
  {
   "cell_type": "code",
   "execution_count": null,
   "metadata": {},
   "outputs": [],
   "source": []
  },
  {
   "cell_type": "code",
   "execution_count": null,
   "metadata": {
    "collapsed": false,
    "jupyter": {
     "outputs_hidden": false
    },
    "pycharm": {
     "name": "#%%\n"
    }
   },
   "outputs": [],
   "source": [
    "1/0"
   ]
  },
  {
   "cell_type": "markdown",
   "metadata": {},
   "source": [
    "# Genetic"
   ]
  },
  {
   "cell_type": "code",
   "execution_count": 13,
   "metadata": {},
   "outputs": [],
   "source": [
    "class Agent_genetic_3():\n",
    "    def __init__(self):\n",
    "        self.input_size = 6\n",
    "        self.hidden_layers = [3]\n",
    "        self.weights = []\n",
    "        self.biases = []\n",
    "        self._create_layer(self.input_size, self.hidden_layers[0])\n",
    "        self._create_layer(self.hidden_layers[0], 3)\n",
    "        self._zip = list(zip(self.weights, self.biases))\n",
    "\n",
    "    def _create_layer(self, n_inputs, n_neurons):\n",
    "        self.weights.append(0.01 * np.random.randn(n_inputs, n_neurons))\n",
    "        self.biases.append(0.01 * np.random.randn(n_neurons))\n",
    "\n",
    "    # def _create_layer(self, n_inputs, n_neurons):\n",
    "    #     self.weights.append(np.ones([n_inputs, n_neurons]))\n",
    "    #     self.biases.append(np.ones(n_neurons))\n",
    "\n",
    "    def forward(self, inputs):\n",
    "        activations = inputs\n",
    "        for weights, biases in self._zip:\n",
    "            activations = activations @ weights + biases\n",
    "            activations = 1 / (1 + math.e ** (-activations))\n",
    "        return activations\n",
    "\n",
    "    \n",
    "    def create_input(self, info_left, distance_left, info_forward, distance_forward, info_right, distance_right):\n",
    "        pass\n",
    "    \n",
    "    def move(self, *args):\n",
    "        input = np.array(args)\n",
    "        output = self.forward(input)\n",
    "        res = output.argmax() - 1\n",
    "        # print(res)\n",
    "        return res\n",
    "    \n",
    "    def mutate(self):\n",
    "        pass"
   ]
  },
  {
   "cell_type": "code",
   "execution_count": 28,
   "metadata": {},
   "outputs": [
    {
     "data": {
      "text/plain": [
       "[array([[ 0.00762087, -0.0021806 , -0.01224879],\n",
       "        [ 0.00106008,  0.00612464,  0.00057629],\n",
       "        [ 0.01103547, -0.00439371, -0.00909321],\n",
       "        [ 0.00176723,  0.00816817, -0.00514702],\n",
       "        [-0.00011752,  0.01911241, -0.0034073 ],\n",
       "        [ 0.00614639, -0.00320427, -0.00263351]]),\n",
       " array([[ 0.00648921,  0.00455306, -0.00129843],\n",
       "        [ 0.00315317, -0.00539493,  0.00051463],\n",
       "        [ 0.00143924,  0.00995196, -0.0067215 ]])]"
      ]
     },
     "execution_count": 28,
     "metadata": {},
     "output_type": "execute_result"
    }
   ],
   "source": [
    "a = Agent_genetic_3()\n",
    "a_w = a.weights\n",
    "a_w"
   ]
  },
  {
   "cell_type": "code",
   "execution_count": 21,
   "metadata": {},
   "outputs": [
    {
     "data": {
      "image/png": "[encoded data removed]",
      "text/plain": [
       "<Figure size 640x480 with 1 Axes>"
      ]
     },
     "metadata": {},
     "output_type": "display_data"
    }
   ],
   "source": [
    "w = World()\n",
    "\n",
    "game(b, w, plot=True)"
   ]
  },
  {
   "cell_type": "code",
   "execution_count": 68,
   "metadata": {},
   "outputs": [
    {
     "data": {
      "text/plain": [
       "[array([[ 0.00000000e+00,  0.00000000e+00,  0.00000000e+00],\n",
       "        [ 1.00000000e+00,  1.00000000e+00,  1.00000000e+00],\n",
       "        [ 1.10354701e-02, -4.39371125e-03, -9.09320917e-03],\n",
       "        [ 1.76723170e-03,  8.16816676e-03, -5.14702331e-03],\n",
       "        [-1.17520665e-04,  1.91124135e-02, -3.40729807e-03],\n",
       "        [ 6.14639064e-03, -3.20427080e-03, -2.63350527e-03]]),\n",
       " array([[ 1.00000000e+00,  1.00000000e+00,  1.00000000e+00],\n",
       "        [ 3.15317290e-03, -5.39493308e-03,  5.14631264e-04],\n",
       "        [ 1.43924103e-03,  9.95195819e-03, -6.72150385e-03]])]"
      ]
     },
     "execution_count": 68,
     "metadata": {},
     "output_type": "execute_result"
    }
   ],
   "source": [
    "b = copy.copy(a)\n",
    "b_w = b.weights\n",
    "b_w"
   ]
  },
  {
   "cell_type": "code",
   "execution_count": 71,
   "metadata": {},
   "outputs": [
    {
     "data": {
      "text/plain": [
       "[array([[ 0.00000000e+00,  0.00000000e+00,  0.00000000e+00],\n",
       "        [ 2.00000000e+00,  2.00000000e+00,  2.00000000e+00],\n",
       "        [ 1.10354701e-02, -4.39371125e-03, -9.09320917e-03],\n",
       "        [ 1.76723170e-03,  8.16816676e-03, -5.14702331e-03],\n",
       "        [-1.17520665e-04,  1.91124135e-02, -3.40729807e-03],\n",
       "        [ 6.14639064e-03, -3.20427080e-03, -2.63350527e-03]]),\n",
       " array([[ 1.00000000e+00,  1.00000000e+00,  1.00000000e+00],\n",
       "        [ 3.15317290e-03, -5.39493308e-03,  5.14631264e-04],\n",
       "        [ 1.43924103e-03,  9.95195819e-03, -6.72150385e-03]])]"
      ]
     },
     "execution_count": 71,
     "metadata": {},
     "output_type": "execute_result"
    }
   ],
   "source": [
    "b_w"
   ]
  },
  {
   "cell_type": "code",
   "execution_count": 69,
   "metadata": {},
   "outputs": [
    {
     "data": {
      "text/plain": [
       "[array([[ 0.00000000e+00,  0.00000000e+00,  0.00000000e+00],\n",
       "        [ 2.00000000e+00,  2.00000000e+00,  2.00000000e+00],\n",
       "        [ 1.10354701e-02, -4.39371125e-03, -9.09320917e-03],\n",
       "        [ 1.76723170e-03,  8.16816676e-03, -5.14702331e-03],\n",
       "        [-1.17520665e-04,  1.91124135e-02, -3.40729807e-03],\n",
       "        [ 6.14639064e-03, -3.20427080e-03, -2.63350527e-03]]),\n",
       " array([[ 1.00000000e+00,  1.00000000e+00,  1.00000000e+00],\n",
       "        [ 3.15317290e-03, -5.39493308e-03,  5.14631264e-04],\n",
       "        [ 1.43924103e-03,  9.95195819e-03, -6.72150385e-03]])]"
      ]
     },
     "execution_count": 69,
     "metadata": {},
     "output_type": "execute_result"
    }
   ],
   "source": [
    "a_w[0][1] = 2.0\n",
    "a_w"
   ]
  },
  {
   "cell_type": "code",
   "execution_count": null,
   "metadata": {},
   "outputs": [],
   "source": [
    "copy pointer, deepcopy komplet"
   ]
  },
  {
   "cell_type": "code",
   "execution_count": 22,
   "metadata": {},
   "outputs": [
    {
     "data": {
      "application/vnd.jupyter.widget-view+json": {
       "model_id": "b53a1beafbbc4fe09c23dd30b51d2b6e",
       "version_major": 2,
       "version_minor": 0
      },
      "text/plain": [
       "interactive(children=(IntSlider(value=2, description='step', max=5), Output(layout=Layout(height='450px'))), _…"
      ]
     },
     "execution_count": 22,
     "metadata": {},
     "output_type": "execute_result"
    }
   ],
   "source": [
    "w.replay()"
   ]
  },
  {
   "cell_type": "code",
   "execution_count": null,
   "metadata": {},
   "outputs": [],
   "source": []
  },
  {
   "cell_type": "code",
   "execution_count": 162,
   "metadata": {},
   "outputs": [],
   "source": [
    "\n",
    "\n",
    "class Breeder():\n",
    "    def __init__(self, agent_class):\n",
    "        self.agents_per_gen = 10\n",
    "        self.select_percentage = 10\n",
    "        self.games_per_agent = 100\n",
    "        self.agent_class = agent_class\n",
    "        self.agents = np.array([agent_class() for x in range(self.agents_per_gen)])\n",
    "        \n",
    "            \n",
    "    def create_generations(self):\n",
    "        # for generation in range(num_of_gens-1):\n",
    "            play_round(agent)\n",
    "            select_agents()\n",
    "    \n",
    "    def play_round(self):\n",
    "        scores = []\n",
    "        steps = []\n",
    "        for agent in self.agents:\n",
    "            agent_scores = []\n",
    "            agent_steps = []\n",
    "            for gg in range(self.games_per_agent):\n",
    "                w = World()\n",
    "                game(agent, w)\n",
    "                agent_scores.append(w.score)\n",
    "                agent_steps.append(w.steps)\n",
    "            scores.append(agent_scores)\n",
    "            steps.append(agent_steps)\n",
    "        self.scores = np.array(scores)\n",
    "        self.steps = np.array(steps)\n",
    "        \n",
    "\n",
    "    def select_agents(self):\n",
    "        n = int(math.ceil(self.select_percentage/100 * self.agents_per_gen))\n",
    "        mean_scores = self.scores.mean(axis=1)\n",
    "        indices = np.argsort(mean_scores)[-n:]\n",
    "        return self.agents[indices]\n",
    "    \n",
    "    def breed(self, agents):\n",
    "        self.agents = np.array([self.procreate_agent(random.choice(agents)) for x in range(self.agents_per_gen)])\n",
    "\n",
    "    def procreate_agent(self, agent):\n",
    "        agent = copy.deepcopy(agent)\n",
    "        agent.mutate()\n",
    "        return agent\n",
    "    \n",
    "        \n",
    "        \n",
    "        \n",
    "br = Breeder(Agent_genetic_3)\n"
   ]
  },
  {
   "cell_type": "code",
   "execution_count": 163,
   "metadata": {},
   "outputs": [
    {
     "name": "stdout",
     "output_type": "stream",
     "text": [
      "CPU times: user 25.4 s, sys: 733 ms, total: 26.1 s\n",
      "Wall time: 25.2 s\n"
     ]
    }
   ],
   "source": [
    "%%time\n",
    "br.play_round()"
   ]
  },
  {
   "cell_type": "code",
   "execution_count": 164,
   "metadata": {},
   "outputs": [
    {
     "data": {
      "text/plain": [
       "array([0.03, 0.02, 0.08, 0.04, 0.03, 0.04, 0.01, 0.02, 0.05, 0.07])"
      ]
     },
     "execution_count": 164,
     "metadata": {},
     "output_type": "execute_result"
    }
   ],
   "source": [
    "br.scores.mean(axis=1)"
   ]
  },
  {
   "cell_type": "code",
   "execution_count": 165,
   "metadata": {},
   "outputs": [
    {
     "data": {
      "text/plain": [
       "array([<__main__.Agent_genetic_3 object at 0x7fd98cca2dc0>], dtype=object)"
      ]
     },
     "execution_count": 165,
     "metadata": {},
     "output_type": "execute_result"
    }
   ],
   "source": [
    "br.select_agents()"
   ]
  },
  {
   "cell_type": "code",
   "execution_count": 166,
   "metadata": {},
   "outputs": [
    {
     "data": {
      "text/plain": [
       "array([<__main__.Agent_genetic_3 object at 0x7fd98cca2df0>,\n",
       "       <__main__.Agent_genetic_3 object at 0x7fd98cca26d0>,\n",
       "       <__main__.Agent_genetic_3 object at 0x7fd98cca2dc0>,\n",
       "       <__main__.Agent_genetic_3 object at 0x7fd98cca2ca0>,\n",
       "       <__main__.Agent_genetic_3 object at 0x7fd98cca2d60>,\n",
       "       <__main__.Agent_genetic_3 object at 0x7fd98cc8e370>,\n",
       "       <__main__.Agent_genetic_3 object at 0x7fd98cca2d90>,\n",
       "       <__main__.Agent_genetic_3 object at 0x7fd98cc7fb80>,\n",
       "       <__main__.Agent_genetic_3 object at 0x7fd98cc7fc70>,\n",
       "       <__main__.Agent_genetic_3 object at 0x7fd98cc7f670>], dtype=object)"
      ]
     },
     "execution_count": 166,
     "metadata": {},
     "output_type": "execute_result"
    }
   ],
   "source": [
    "br.agents"
   ]
  },
  {
   "cell_type": "code",
   "execution_count": null,
   "metadata": {},
   "outputs": [],
   "source": []
  },
  {
   "cell_type": "code",
   "execution_count": null,
   "metadata": {},
   "outputs": [],
   "source": []
  },
  {
   "cell_type": "code",
   "execution_count": null,
   "metadata": {},
   "outputs": [],
   "source": []
  },
  {
   "cell_type": "code",
   "execution_count": null,
   "metadata": {},
   "outputs": [],
   "source": []
  },
  {
   "cell_type": "code",
   "execution_count": null,
   "metadata": {},
   "outputs": [],
   "source": []
  },
  {
   "cell_type": "code",
   "execution_count": null,
   "metadata": {},
   "outputs": [],
   "source": []
  },
  {
   "cell_type": "code",
   "execution_count": null,
   "metadata": {},
   "outputs": [],
   "source": []
  },
  {
   "cell_type": "code",
   "execution_count": null,
   "metadata": {},
   "outputs": [],
   "source": []
  },
  {
   "cell_type": "code",
   "execution_count": null,
   "metadata": {
    "collapsed": false,
    "jupyter": {
     "outputs_hidden": false
    },
    "pycharm": {
     "name": "#%%\n"
    }
   },
   "outputs": [],
   "source": [
    "1/0"
   ]
  },
  {
   "cell_type": "markdown",
   "metadata": {
    "pycharm": {
     "name": "#%% md\n"
    }
   },
   "source": [
    "# Agent genetic"
   ]
  },
  {
   "cell_type": "code",
   "execution_count": null,
   "metadata": {
    "collapsed": false,
    "jupyter": {
     "outputs_hidden": false
    },
    "pycharm": {
     "name": "#%%\n"
    }
   },
   "outputs": [],
   "source": [
    "import numpy as np\n",
    "#import tensorflow as tf\n",
    "#from tensorflow.python.keras.layers import Dense\n",
    "#from tensorflow.python.keras.models import Sequential\n",
    "#from tensorflow.python.keras.optimizer_v2.adam import Adam\n",
    "import sys\n",
    "import numpy as  np\n",
    "import matplotlib\n",
    "from . import serverConfig as sc, server as srvr, clientBase as cb, enums\n",
    "from modules.GeneticAI import Activation_ReLU as relu, Dense_Layer as denl\n",
    "import logging, sys\n",
    "\n",
    "class ClientGenetic(cb.ClientBase):\n",
    "\n",
    "    # properties ------------\n",
    "    server = object\n",
    "    inputLayer = np.zeros(1)\n",
    "\n",
    "    # ctor -----------\n",
    "\n",
    "    def init(self):\n",
    "        self.server = srvr.Server(sc.ServerConfig(enums.serverModes.Auto, 1, self.fpsCallback, self.newGameCallback, 10000))\n",
    "\n",
    "    # public ------------\n",
    "\n",
    "    def fpsCallback(self, movesRemaining):\n",
    "        print(movesRemaining)\n",
    "\n",
    "        return enums.directions.Skip\n",
    "\n",
    "    def newGameCallback(self, gamesRemaining):\n",
    "        pass\n",
    "\n",
    "    # private ------------\n",
    "\n",
    "    def preprocess_state(self):  # world and look_dir could be parameters\n",
    "        # finding look_dir in order to know which objects are on our right etc.\n",
    "        head = None\n",
    "        neck = None\n",
    "        body = None\n",
    "        tail = None\n",
    "        tail_value = 0\n",
    "        world = server.getGameState().world\n",
    "        size = server.getGameState().width\n",
    "        #for y in range(size):\n",
    "        #    for x in range(size):\n",
    "        #        if world[y][x] == 1:\n",
    "        #            head = [y, x]\n",
    "        #            world[y][x] += 1\n",
    "        #        elif world[y][x] == 2:\n",
    "        #            neck = [y, x]\n",
    "        #            world[y][x] += 1\n",
    "        #        elif world[y][x] > 2:\n",
    "        #            body = [y, x]\n",
    "        #            world[y][x] += 1\n",
    "        #        if world[y][x] > tail_value:\n",
    "        #            tail = [y, x]\n",
    "        #            tail_value = world[y][x]\n",
    "\n",
    "        y = head[0] - neck[0]\n",
    "        x = head[1] - neck[1]\n",
    "        look_dir = [y, x]\n",
    "\n",
    "        look_dirs = [[0, -1], [-1, 0], [0, 1], [1, 0]]\n",
    "        look_dir_index = look_dirs.index(look_dir)\n",
    "        info_left = []\n",
    "        distance_left = []  # actually its positions\n",
    "        info_forward = []\n",
    "        distance_forward = []\n",
    "        info_right = []\n",
    "        distance_right = []\n",
    "\n",
    "        for ii in range(1, 4):\n",
    "            shift_left = look_dirs[look_dir_index - 1]\n",
    "            pixel_left_y = head[0] + ii * (shift_left[0])\n",
    "            pixel_left_x = head[1] + ii * (shift_left[1])\n",
    "            if (pixel_left_x > size - 1) or (pixel_left_y > size - 1) or (pixel_left_x < 0) or (\n",
    "                    pixel_left_y < 0):  # if we can still move\n",
    "                info_left.append(-2)\n",
    "                distance_left.append(ii)\n",
    "                break\n",
    "            if world[pixel_left_y][pixel_left_x] != 0:\n",
    "                info_left.append(world[pixel_left_y][pixel_left_x])\n",
    "                distance_left.append(ii)\n",
    "\n",
    "        for ii in range(1, 4):\n",
    "            shift_forward = look_dirs[look_dir_index]\n",
    "            pixel_forward_y = head[0] + ii * (shift_forward[0])\n",
    "            pixel_forward_x = head[1] + ii * (shift_forward[1])\n",
    "            if (pixel_forward_x > size - 1) or (pixel_forward_y > size - 1) or (pixel_forward_x < 0) or (\n",
    "                    pixel_forward_y < 0):  # if we can still move\n",
    "                info_forward.append(-2)\n",
    "                distance_forward.append(ii)\n",
    "                break\n",
    "            if world[pixel_forward_y][pixel_forward_x] != 0:\n",
    "                info_forward.append(world[pixel_forward_y][pixel_forward_x])\n",
    "                distance_forward.append(ii)\n",
    "\n",
    "        for ii in range(1, 4):\n",
    "            if look_dir_index == 3:\n",
    "                shift_right = look_dirs[0]\n",
    "            else:\n",
    "                shift_right = look_dirs[look_dir_index + 1]\n",
    "            pixel_right_y = head[0] + ii * (shift_right[0])\n",
    "            pixel_right_x = head[1] + ii * (shift_right[1])\n",
    "            if (pixel_right_x > size - 1) or (pixel_right_y > size - 1) or (pixel_right_x < 0) or (\n",
    "                    pixel_right_y < 0):  # if we can still move\n",
    "                info_right.append(-2)\n",
    "                distance_right.append(ii)\n",
    "                break\n",
    "            if world[pixel_right_y][pixel_right_x] != 0:\n",
    "                info_right.append(world[pixel_right_y][pixel_right_x])\n",
    "                distance_right.append(ii)\n",
    "\n",
    "        if len(distance_left) != 0:\n",
    "            input_layer[0] = 1 if ((distance_left[0] == 1) and (\n",
    "                        (info_left[0] > 1 and info_left[0] != tail_value) or info_left[\n",
    "                    0] == -2)) else 0  # there is an obsticle on the left (distance 1)\n",
    "        if len(distance_forward) != 0:\n",
    "            input_layer[1] = 1 if ((distance_forward[0] == 1) and (\n",
    "                        (info_forward[0] > 1 and info_forward[0] != tail_value) or info_forward[0] == -2)) else 0\n",
    "        if len(distance_right) != 0:\n",
    "            input_layer[2] = 1 if ((distance_right[0] == 1) and (\n",
    "                        (info_right[0] > 1 and info_right[0] != tail_value) or info_right[0] == -2)) else 0\n",
    "        input_layer[3] = 1 if (-1 in info_left) else 0  # food in range 3 to the right\n",
    "        input_layer[4] = 1 if (-1 in info_forward) else 0\n",
    "        input_layer[5] = 1 if (-1 in info_right) else 0\n",
    "\n",
    "        return input_layer\n",
    "\n",
    "\n",
    "def onehot_encode(index, length):\n",
    "    a = np.zeros((length,), dtype=np.uint8)\n",
    "    a[index] = 1\n",
    "    return a\n",
    "\n",
    "\n",
    "\n",
    "X = preprocess_state(GameState.world) #instead of obs\n",
    "\n",
    "\n",
    "X = preprocess_state()\n",
    "\n",
    "# Dense layer\n",
    "class Layer_Dense:\n",
    " # Layer initialization\n",
    "    def __init__(self, n_inputs, n_neurons):\n",
    "        # Initialize weights and biases\n",
    "        self.weights = 0.10 * np.random.randn(n_inputs, n_neurons) #already transposed matrix of weights for every neuron\n",
    "        self.biases = np.zeros((1, n_neurons))\n",
    "    # Forward pass\n",
    "    def forward(self, inputs):\n",
    "    # Calculate output values from inputs, weights and biases\n",
    "        self.output = np.dot(inputs, self.weights) + self.biases\n",
    "\n",
    "# ReLU activation\n",
    "class Activation_ReLU:\n",
    "     # Forward pass\n",
    "     def forward(self, inputs):\n",
    "         # Calculate output values from input\n",
    "         self.output = np.maximum(0, inputs)\n",
    "\n",
    "dense1 = denl.Layer_Dense(6, 5)\n",
    "\n",
    "activation1 = relu.Activation_ReLU()\n",
    "#print(activation1.output)\n",
    "\n",
    "dense1.forward(X)\n",
    "#print(dense1.output)\n",
    "\n",
    "activation1.forward(dense1.output)\n",
    "\n",
    "print(activation1.output[:5])\n",
    "\n",
    "\n",
    "\n",
    "#\n",
    "# layer2 = Layer_Dense(5, 3)\n",
    "#\n",
    "#\n",
    "# print(layer1)\n",
    "# layer2.forward(layer1.output)\n",
    "# print(layer2.output)\n",
    "\n",
    "\n",
    "# In[ ]:\n",
    "\n",
    "\n",
    "\n",
    "\n",
    "\n",
    "# In[ ]:\n",
    "\n",
    "\n",
    "#output 2. vrstvy\n",
    "#plan:\n",
    "#batches neresime, 2 dense layers, vahy random, aktivacni fce, input, output\n"
   ]
  }
 ],
 "metadata": {
  "kernelspec": {
   "display_name": "snake",
   "language": "python",
   "name": "snake"
  },
  "language_info": {
   "codemirror_mode": {
    "name": "ipython",
    "version": 3
   },
   "file_extension": ".py",
   "mimetype": "text/x-python",
   "name": "python",
   "nbconvert_exporter": "python",
   "pygments_lexer": "ipython3",
   "version": "3.9.13"
  }
 },
 "nbformat": 4,
 "nbformat_minor": 4
}
