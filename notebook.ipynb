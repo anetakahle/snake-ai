{
 "cells": [
  {
   "cell_type": "code",
   "execution_count": 1,
   "metadata": {
    "pycharm": {
     "name": "#%%\n"
    },
    "tags": []
   },
   "outputs": [],
   "source": [
    "import random\n",
    "import math\n",
    "import numpy as np\n",
    "from matplotlib import pyplot as plt\n",
    "from time import sleep\n",
    "from world import World\n",
    "from agent_simple_random import Agent_simple_random \n",
    "from agent_hemilton_cycle import Agent_hemilton_cycle\n",
    "from managers import Manager_simple, Breeder\n",
    "from genetic import Agent_genetic_3\n",
    "import ipywidgets as widgets\n",
    "from ipywidgets import interactive\n",
    "%matplotlib inline\n",
    "import copy\n",
    "import pickle"
   ]
  },
  {
   "cell_type": "code",
   "execution_count": 2,
   "metadata": {
    "pycharm": {
     "name": "#%%\n"
    },
    "tags": []
   },
   "outputs": [],
   "source": [
    "# %matplotlib tk\n",
    "# plt.ion()"
   ]
  },
  {
   "cell_type": "code",
   "execution_count": 3,
   "metadata": {},
   "outputs": [
    {
     "data": {
      "application/vnd.jupyter.widget-view+json": {
       "model_id": "53a9ad2186ee4e508f2e5e195209ad7a",
       "version_major": 2,
       "version_minor": 0
      },
      "text/plain": [
       "interactive(children=(IntSlider(value=83, description='step', max=167), Output(layout=Layout(height='450px')))…"
      ]
     },
     "execution_count": 3,
     "metadata": {},
     "output_type": "execute_result"
    }
   ],
   "source": [
    "agent = Agent_simple_random()\n",
    "w = World()\n",
    "w.game(agent)\n",
    "\n",
    "w.replay()"
   ]
  },
  {
   "cell_type": "code",
   "execution_count": 4,
   "metadata": {},
   "outputs": [
    {
     "data": {
      "image/png": "[encoded data removed]",
      "text/plain": [
       "<Figure size 640x480 with 1 Axes>"
      ]
     },
     "metadata": {},
     "output_type": "display_data"
    }
   ],
   "source": [
    "manager = Manager_simple(Agent_simple_random)\n",
    "\n",
    "manager.play_games()\n",
    "manager.plot()"
   ]
  },
  {
   "cell_type": "markdown",
   "metadata": {},
   "source": [
    "# Genetic"
   ]
  },
  {
   "cell_type": "code",
   "execution_count": 5,
   "metadata": {},
   "outputs": [],
   "source": [
    "br = Breeder(Agent_genetic_3, n_agents=200)\n",
    "br.games_per_agent = 50"
   ]
  },
  {
   "cell_type": "code",
   "execution_count": 33,
   "metadata": {},
   "outputs": [
    {
     "name": "stdout",
     "output_type": "stream",
     "text": [
      "0 0.2839\n",
      "1 0.3196\n",
      "2 0.3125\n",
      "3 0.3439\n",
      "4 0.3313\n",
      "5 0.3031\n",
      "6 0.3308\n",
      "7 0.3448\n",
      "8 0.5064\n",
      "9 0.9282\n",
      "10 1.1226\n",
      "11 1.8291\n",
      "12 2.0015\n",
      "13 2.2601\n",
      "14 1.9511\n",
      "15 2.099\n",
      "16 2.1978\n",
      "17 2.2904\n",
      "18 2.4375\n",
      "19 2.2973\n",
      "20 2.3095\n",
      "21 2.3568\n",
      "22 2.4791\n",
      "23 2.471\n",
      "24 2.1043\n",
      "25 2.5121\n",
      "26 2.2514\n",
      "27 2.4184\n",
      "28 2.5764\n",
      "29 2.5029\n",
      "30 2.4629\n",
      "31 2.3632\n",
      "32 2.4688\n",
      "33 2.4888\n",
      "34 2.6517\n",
      "35 2.4194\n",
      "36 2.4019\n",
      "37 2.4574\n",
      "38 2.457\n",
      "39 2.2231\n",
      "CPU times: user 3h 3min 37s, sys: 2min 7s, total: 3h 5min 45s\n",
      "Wall time: 3h 3min 14s\n"
     ]
    }
   ],
   "source": [
    "%%time\n",
    "br.breed(40)"
   ]
  },
  {
   "cell_type": "code",
   "execution_count": null,
   "metadata": {},
   "outputs": [],
   "source": []
  },
  {
   "cell_type": "code",
   "execution_count": null,
   "metadata": {},
   "outputs": [],
   "source": []
  },
  {
   "cell_type": "code",
   "execution_count": 30,
   "metadata": {},
   "outputs": [],
   "source": [
    "br.plot()"
   ]
  },
  {
   "cell_type": "code",
   "execution_count": 9,
   "metadata": {},
   "outputs": [
    {
     "data": {
      "text/plain": [
       "[<matplotlib.lines.Line2D at 0x7fec24ef2e20>]"
      ]
     },
     "execution_count": 9,
     "metadata": {},
     "output_type": "execute_result"
    },
    {
     "data": {
      "image/png": "[encoded data removed]",
      "text/plain": [
       "<Figure size 640x480 with 1 Axes>"
      ]
     },
     "metadata": {},
     "output_type": "display_data"
    }
   ],
   "source": [
    "plt.plot(br.generation_steps)"
   ]
  },
  {
   "cell_type": "code",
   "execution_count": null,
   "metadata": {},
   "outputs": [],
   "source": [
    "br.agents = np.array([*selected, *b, *(a[:70])])\n",
    "len(br.agents)"
   ]
  },
  {
   "cell_type": "code",
   "execution_count": null,
   "metadata": {},
   "outputs": [],
   "source": [
    "# br.agents"
   ]
  },
  {
   "cell_type": "code",
   "execution_count": null,
   "metadata": {
    "tags": []
   },
   "outputs": [],
   "source": [
    "br_ = copy.deepcopy(br)\n",
    "selected = br_.select_agents()\n",
    "len(selected)"
   ]
  },
  {
   "cell_type": "code",
   "execution_count": null,
   "metadata": {},
   "outputs": [],
   "source": [
    "\n",
    "# # a = br_.agents\n",
    "# pickle.dump(selected, open(\"agents_genetic_1\", \"wb\"))\n",
    "\n",
    "# b = pickle.load(open(\"agents_genetic_1\", \"rb\"))\n",
    "# a = pickle.load(open(\"agents_genetic_120\", \"rb\"))\n",
    "# b = \n",
    "# len(b)\n",
    "# len(a)"
   ]
  },
  {
   "cell_type": "code",
   "execution_count": 31,
   "metadata": {},
   "outputs": [],
   "source": [
    "agent = br.agents[20]\n",
    "# w = World()\n",
    "# w.game(agent)\n",
    "\n",
    "# w.replay()"
   ]
  },
  {
   "cell_type": "code",
   "execution_count": 17,
   "metadata": {},
   "outputs": [],
   "source": [
    "# # agent = Agent_hemilton_cycle()\n",
    "# agent = Agent_simple_random()\n",
    "# w = World()\n",
    "# w.game(agent)\n",
    "# w \n",
    "\n",
    "# w.replay()"
   ]
  },
  {
   "cell_type": "code",
   "execution_count": 32,
   "metadata": {},
   "outputs": [],
   "source": [
    "%matplotlib tk\n",
    "plt.ion()\n",
    "\n",
    "def game(agent, w):\n",
    "        w = World()\n",
    "        fig, ax = plt.subplots()\n",
    "        for i in range(19):\n",
    "            if not w.game_over:\n",
    "                agent_decision = agent.move(*w.view_3_end())\n",
    "                w.step(agent_decision)\n",
    "                ax.matshow(w.obs, origin='upper')\n",
    "                plt.pause(0.01)\n",
    "                sleep(0.01)\n",
    "\n",
    "        # print(f'score {w.score}, steps {w.steps}')\n",
    "        # return w.score, w.steps\n",
    "game(agent, w)"
   ]
  },
  {
   "cell_type": "code",
   "execution_count": null,
   "metadata": {},
   "outputs": [],
   "source": []
  }
 ],
 "metadata": {
  "kernelspec": {
   "display_name": "snake",
   "language": "python",
   "name": "snake"
  },
  "language_info": {
   "codemirror_mode": {
    "name": "ipython",
    "version": 3
   },
   "file_extension": ".py",
   "mimetype": "text/x-python",
   "name": "python",
   "nbconvert_exporter": "python",
   "pygments_lexer": "ipython3",
   "version": "3.9.13"
  }
 },
 "nbformat": 4,
 "nbformat_minor": 4
}
