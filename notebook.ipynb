{
 "cells": [
  {
   "cell_type": "code",
   "execution_count": 1,
   "metadata": {
    "pycharm": {
     "name": "#%%\n"
    },
    "tags": []
   },
   "outputs": [],
   "source": [
    "import random\n",
    "import math\n",
    "import numpy as np\n",
    "from matplotlib import pyplot as plt\n",
    "from time import sleep\n",
    "from world import World\n",
    "from agent_simple_random import Agent_simple_random \n",
    "from agent_hemilton_cycle import Agent_hemilton_cycle\n",
    "import ipywidgets as widgets\n",
    "from ipywidgets import interactive\n",
    "%matplotlib inline"
   ]
  },
  {
   "cell_type": "code",
   "execution_count": 2,
   "metadata": {
    "pycharm": {
     "name": "#%%\n"
    },
    "tags": []
   },
   "outputs": [
    {
     "data": {
      "text/plain": [
       "<matplotlib.pyplot._IonContext at 0x7fd00c4143d0>"
      ]
     },
     "execution_count": 2,
     "metadata": {},
     "output_type": "execute_result"
    }
   ],
   "source": [
    "%matplotlib tk\n",
    "plt.ion()"
   ]
  },
  {
   "cell_type": "code",
   "execution_count": 3,
   "metadata": {},
   "outputs": [],
   "source": [
    "def game(agent, w, plot=False):\n",
    "    if plot: fig, ax = plt.subplots()\n",
    "    while not w.game_over:\n",
    "        agent_decision = agent.move(*w.view_3_end())\n",
    "        w.step(agent_decision)\n",
    "        if plot:\n",
    "            ax.matshow(w.obs, origin='upper')\n",
    "            plt.pause(0.01)\n",
    "            sleep(0.01)\n",
    "\n",
    "    # print(f'score {w.score}, steps {w.steps}')\n",
    "    #return w\n",
    "\n",
    "def show_step(step):\n",
    "    plt.figure(2)\n",
    "    obs = w.history[step]\n",
    "    plt.matshow(obs)\n",
    "    plt.show()\n",
    "\n",
    "def replay(w):\n",
    "    interactive_plot = interactive(show_step, step=(0, len(w.history)-1))\n",
    "    output = interactive_plot.children[-1]\n",
    "    output.layout.height = '450px'\n",
    "    return interactive_plot\n",
    "\n",
    "def play_games(Agent_class, n):\n",
    "    scores = []\n",
    "    step_counts = []\n",
    "    for ii in range(n):\n",
    "        agent = Agent_class()\n",
    "        w = World()\n",
    "        game(agent, w)\n",
    "        scores.append(w.score)\n",
    "        step_counts.append(w.steps)\n",
    "\n",
    "    plt.plot(scores, '.')\n",
    "    plt.ylim(0,63)\n",
    "    plt.ylabel('score')\n",
    "    plt.xlabel('game')"
   ]
  },
  {
   "cell_type": "code",
   "execution_count": 9,
   "metadata": {},
   "outputs": [
    {
     "data": {
      "text/plain": [
       "    ░░░░░░░░    |\n",
       "    ░░░░░░░░░░  |\n",
       "        ░░░░░░  |\n",
       "                |\n",
       "                |\n",
       "                |\n",
       "                |\n",
       "          ◯◯    | score=10 steps=139  Game Over"
      ]
     },
     "execution_count": 9,
     "metadata": {},
     "output_type": "execute_result"
    }
   ],
   "source": [
    "# agent = Agent_hemilton_cycle()\n",
    "agent = Agent_simple_random()\n",
    "w = World()\n",
    "game(agent, w, plot=False)\n",
    "w"
   ]
  },
  {
   "cell_type": "code",
   "execution_count": 5,
   "metadata": {},
   "outputs": [
    {
     "data": {
      "application/vnd.jupyter.widget-view+json": {
       "model_id": "e571a29226a44ef88c1e700c6ad48372",
       "version_major": 2,
       "version_minor": 0
      },
      "text/plain": [
       "interactive(children=(IntSlider(value=66, description='step', max=132), Output(layout=Layout(height='450px')))…"
      ]
     },
     "execution_count": 5,
     "metadata": {},
     "output_type": "execute_result"
    }
   ],
   "source": [
    "replay(w)"
   ]
  },
  {
   "cell_type": "code",
   "execution_count": null,
   "metadata": {
    "collapsed": false,
    "jupyter": {
     "outputs_hidden": false
    },
    "pycharm": {
     "name": "#%%\n"
    }
   },
   "outputs": [],
   "source": []
  },
  {
   "cell_type": "code",
   "execution_count": 8,
   "metadata": {},
   "outputs": [
    {
     "data": {
      "image/png": "[encoded data removed]",
      "text/plain": [
       "<Figure size 640x480 with 1 Axes>"
      ]
     },
     "metadata": {},
     "output_type": "display_data"
    }
   ],
   "source": [
    "play_games(Agent_simple_random, 29)"
   ]
  },
  {
   "cell_type": "code",
   "execution_count": null,
   "metadata": {},
   "outputs": [],
   "source": []
  },
  {
   "cell_type": "code",
   "execution_count": null,
   "metadata": {},
   "outputs": [],
   "source": []
  },
  {
   "cell_type": "code",
   "execution_count": null,
   "metadata": {},
   "outputs": [],
   "source": []
  },
  {
   "cell_type": "code",
   "execution_count": 9,
   "metadata": {
    "collapsed": false,
    "jupyter": {
     "outputs_hidden": false
    },
    "pycharm": {
     "name": "#%%\n"
    }
   },
   "outputs": [],
   "source": [
    "1/0"
   ]
  },
  {
   "cell_type": "markdown",
   "metadata": {},
   "source": [
    "# Genetic"
   ]
  },
  {
   "cell_type": "code",
   "execution_count": null,
   "metadata": {},
   "outputs": [],
   "source": [
    "class Breeder():\n",
    "    def __init__():\n",
    "        pass\n",
    "    \n",
    "    def create_generations():\n",
    "        for agent in range(agents_per_gen):\n",
    "            pass\n",
    "            #inicialize\n",
    "            \n",
    "        for generation in range(num_of_gens-1):\n",
    "            for agent in range(agents_per_gen):\n",
    "                pass\n",
    "                #create_offsprings                 "
   ]
  },
  {
   "cell_type": "code",
   "execution_count": null,
   "metadata": {},
   "outputs": [],
   "source": [
    "Agent_genetic([\n",
    "    [[[input_size, random], zero, identity], [[input_size, random], zero, identity]], \n",
    "    [[[2, random], random, identity, [3, zeros]]], [[[2, random], random, identity, [3, zeros]]]]\n",
    "])"
   ]
  },
  {
   "cell_type": "code",
   "execution_count": null,
   "metadata": {},
   "outputs": [],
   "source": [
    "class Agent_genetic():\n",
    "    def __init__(self, specifications : list[list]):\n",
    "        \n",
    "        self.inputSize = 6\n",
    "        for layer in specifications[:-1]:\n",
    "            for neuron in layer:\n",
    "                \n",
    "        # self.inputLayer = np.zeros(inputLayerSize)\n",
    "        # self.lastValues : list[float] = []\n",
    "        # self.hiddenLayers = []\n",
    "        # self.input_ = []\n",
    "        \n",
    "        # setup layers\n",
    "        \n",
    "        self.hiddenLayers = []\n",
    "        self.input = self.createInput()\n",
    "        self.hiddenLayers.append(denl.Layer_Dense(len(self.input), self.inputLayerSize, enums.weightModes.Random, enums.biasModes.Random))\n",
    "        self.hiddenLayers.append(denl.Layer_Dense(self.inputLayerSize, 3))\n",
    "\n",
    "        \n",
    "        \n",
    "    \n",
    "    def create_input(self, info_left, distance_left, info_forward, distance_forward, info_right, distance_right):\n",
    "        pass\n",
    "    \n",
    "    def move():\n",
    "        pass\n",
    "    \n",
    "    def create_offsprings(self):\n",
    "        pass\n",
    "    \n",
    "    \n",
    "        \n"
   ]
  },
  {
   "cell_type": "code",
   "execution_count": null,
   "metadata": {
    "collapsed": false,
    "jupyter": {
     "outputs_hidden": false
    },
    "pycharm": {
     "name": "#%%\n"
    }
   },
   "outputs": [],
   "source": [
    "1/0"
   ]
  },
  {
   "cell_type": "markdown",
   "metadata": {
    "pycharm": {
     "name": "#%% md\n"
    }
   },
   "source": [
    "# Agent genetic"
   ]
  },
  {
   "cell_type": "code",
   "execution_count": null,
   "metadata": {
    "collapsed": false,
    "jupyter": {
     "outputs_hidden": false
    },
    "pycharm": {
     "name": "#%%\n"
    }
   },
   "outputs": [],
   "source": [
    "import numpy as np\n",
    "#import tensorflow as tf\n",
    "#from tensorflow.python.keras.layers import Dense\n",
    "#from tensorflow.python.keras.models import Sequential\n",
    "#from tensorflow.python.keras.optimizer_v2.adam import Adam\n",
    "import sys\n",
    "import numpy as  np\n",
    "import matplotlib\n",
    "from . import serverConfig as sc, server as srvr, clientBase as cb, enums\n",
    "from modules.GeneticAI import Activation_ReLU as relu, Dense_Layer as denl\n",
    "import logging, sys\n",
    "\n",
    "class ClientGenetic(cb.ClientBase):\n",
    "\n",
    "    # properties ------------\n",
    "    server = object\n",
    "    inputLayer = np.zeros(1)\n",
    "\n",
    "    # ctor -----------\n",
    "\n",
    "    def init(self):\n",
    "        self.server = srvr.Server(sc.ServerConfig(enums.serverModes.Auto, 1, self.fpsCallback, self.newGameCallback, 10000))\n",
    "\n",
    "    # public ------------\n",
    "\n",
    "    def fpsCallback(self, movesRemaining):\n",
    "        print(movesRemaining)\n",
    "\n",
    "        return enums.directions.Skip\n",
    "\n",
    "    def newGameCallback(self, gamesRemaining):\n",
    "        pass\n",
    "\n",
    "    # private ------------\n",
    "\n",
    "    def preprocess_state(self):  # world and look_dir could be parameters\n",
    "        # finding look_dir in order to know which objects are on our right etc.\n",
    "        head = None\n",
    "        neck = None\n",
    "        body = None\n",
    "        tail = None\n",
    "        tail_value = 0\n",
    "        world = server.getGameState().world\n",
    "        size = server.getGameState().width\n",
    "        #for y in range(size):\n",
    "        #    for x in range(size):\n",
    "        #        if world[y][x] == 1:\n",
    "        #            head = [y, x]\n",
    "        #            world[y][x] += 1\n",
    "        #        elif world[y][x] == 2:\n",
    "        #            neck = [y, x]\n",
    "        #            world[y][x] += 1\n",
    "        #        elif world[y][x] > 2:\n",
    "        #            body = [y, x]\n",
    "        #            world[y][x] += 1\n",
    "        #        if world[y][x] > tail_value:\n",
    "        #            tail = [y, x]\n",
    "        #            tail_value = world[y][x]\n",
    "\n",
    "        y = head[0] - neck[0]\n",
    "        x = head[1] - neck[1]\n",
    "        look_dir = [y, x]\n",
    "\n",
    "        look_dirs = [[0, -1], [-1, 0], [0, 1], [1, 0]]\n",
    "        look_dir_index = look_dirs.index(look_dir)\n",
    "        info_left = []\n",
    "        distance_left = []  # actually its positions\n",
    "        info_forward = []\n",
    "        distance_forward = []\n",
    "        info_right = []\n",
    "        distance_right = []\n",
    "\n",
    "        for ii in range(1, 4):\n",
    "            shift_left = look_dirs[look_dir_index - 1]\n",
    "            pixel_left_y = head[0] + ii * (shift_left[0])\n",
    "            pixel_left_x = head[1] + ii * (shift_left[1])\n",
    "            if (pixel_left_x > size - 1) or (pixel_left_y > size - 1) or (pixel_left_x < 0) or (\n",
    "                    pixel_left_y < 0):  # if we can still move\n",
    "                info_left.append(-2)\n",
    "                distance_left.append(ii)\n",
    "                break\n",
    "            if world[pixel_left_y][pixel_left_x] != 0:\n",
    "                info_left.append(world[pixel_left_y][pixel_left_x])\n",
    "                distance_left.append(ii)\n",
    "\n",
    "        for ii in range(1, 4):\n",
    "            shift_forward = look_dirs[look_dir_index]\n",
    "            pixel_forward_y = head[0] + ii * (shift_forward[0])\n",
    "            pixel_forward_x = head[1] + ii * (shift_forward[1])\n",
    "            if (pixel_forward_x > size - 1) or (pixel_forward_y > size - 1) or (pixel_forward_x < 0) or (\n",
    "                    pixel_forward_y < 0):  # if we can still move\n",
    "                info_forward.append(-2)\n",
    "                distance_forward.append(ii)\n",
    "                break\n",
    "            if world[pixel_forward_y][pixel_forward_x] != 0:\n",
    "                info_forward.append(world[pixel_forward_y][pixel_forward_x])\n",
    "                distance_forward.append(ii)\n",
    "\n",
    "        for ii in range(1, 4):\n",
    "            if look_dir_index == 3:\n",
    "                shift_right = look_dirs[0]\n",
    "            else:\n",
    "                shift_right = look_dirs[look_dir_index + 1]\n",
    "            pixel_right_y = head[0] + ii * (shift_right[0])\n",
    "            pixel_right_x = head[1] + ii * (shift_right[1])\n",
    "            if (pixel_right_x > size - 1) or (pixel_right_y > size - 1) or (pixel_right_x < 0) or (\n",
    "                    pixel_right_y < 0):  # if we can still move\n",
    "                info_right.append(-2)\n",
    "                distance_right.append(ii)\n",
    "                break\n",
    "            if world[pixel_right_y][pixel_right_x] != 0:\n",
    "                info_right.append(world[pixel_right_y][pixel_right_x])\n",
    "                distance_right.append(ii)\n",
    "\n",
    "        if len(distance_left) != 0:\n",
    "            input_layer[0] = 1 if ((distance_left[0] == 1) and (\n",
    "                        (info_left[0] > 1 and info_left[0] != tail_value) or info_left[\n",
    "                    0] == -2)) else 0  # there is an obsticle on the left (distance 1)\n",
    "        if len(distance_forward) != 0:\n",
    "            input_layer[1] = 1 if ((distance_forward[0] == 1) and (\n",
    "                        (info_forward[0] > 1 and info_forward[0] != tail_value) or info_forward[0] == -2)) else 0\n",
    "        if len(distance_right) != 0:\n",
    "            input_layer[2] = 1 if ((distance_right[0] == 1) and (\n",
    "                        (info_right[0] > 1 and info_right[0] != tail_value) or info_right[0] == -2)) else 0\n",
    "        input_layer[3] = 1 if (-1 in info_left) else 0  # food in range 3 to the right\n",
    "        input_layer[4] = 1 if (-1 in info_forward) else 0\n",
    "        input_layer[5] = 1 if (-1 in info_right) else 0\n",
    "\n",
    "        return input_layer\n",
    "\n",
    "\n",
    "def onehot_encode(index, length):\n",
    "    a = np.zeros((length,), dtype=np.uint8)\n",
    "    a[index] = 1\n",
    "    return a\n",
    "\n",
    "\n",
    "\n",
    "X = preprocess_state(GameState.world) #instead of obs\n",
    "\n",
    "\n",
    "X = preprocess_state()\n",
    "\n",
    "# Dense layer\n",
    "class Layer_Dense:\n",
    " # Layer initialization\n",
    "    def __init__(self, n_inputs, n_neurons):\n",
    "        # Initialize weights and biases\n",
    "        self.weights = 0.10 * np.random.randn(n_inputs, n_neurons) #already transposed matrix of weights for every neuron\n",
    "        self.biases = np.zeros((1, n_neurons))\n",
    "    # Forward pass\n",
    "    def forward(self, inputs):\n",
    "    # Calculate output values from inputs, weights and biases\n",
    "        self.output = np.dot(inputs, self.weights) + self.biases\n",
    "\n",
    "# ReLU activation\n",
    "class Activation_ReLU:\n",
    "     # Forward pass\n",
    "     def forward(self, inputs):\n",
    "         # Calculate output values from input\n",
    "         self.output = np.maximum(0, inputs)\n",
    "\n",
    "dense1 = denl.Layer_Dense(6, 5)\n",
    "\n",
    "activation1 = relu.Activation_ReLU()\n",
    "#print(activation1.output)\n",
    "\n",
    "dense1.forward(X)\n",
    "#print(dense1.output)\n",
    "\n",
    "activation1.forward(dense1.output)\n",
    "\n",
    "print(activation1.output[:5])\n",
    "\n",
    "\n",
    "\n",
    "#\n",
    "# layer2 = Layer_Dense(5, 3)\n",
    "#\n",
    "#\n",
    "# print(layer1)\n",
    "# layer2.forward(layer1.output)\n",
    "# print(layer2.output)\n",
    "\n",
    "\n",
    "# In[ ]:\n",
    "\n",
    "\n",
    "\n",
    "\n",
    "\n",
    "# In[ ]:\n",
    "\n",
    "\n",
    "#output 2. vrstvy\n",
    "#plan:\n",
    "#batches neresime, 2 dense layers, vahy random, aktivacni fce, input, output\n"
   ]
  }
 ],
 "metadata": {
  "kernelspec": {
   "display_name": "snake",
   "language": "python",
   "name": "snake"
  },
  "language_info": {
   "codemirror_mode": {
    "name": "ipython",
    "version": 3
   },
   "file_extension": ".py",
   "mimetype": "text/x-python",
   "name": "python",
   "nbconvert_exporter": "python",
   "pygments_lexer": "ipython3",
   "version": "3.9.13"
  }
 },
 "nbformat": 4,
 "nbformat_minor": 4
}
