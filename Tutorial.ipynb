{
 "cells": [
  {
   "cell_type": "code",
   "execution_count": 1,
   "metadata": {
    "pycharm": {
     "name": "#%%\n"
    },
    "tags": []
   },
   "outputs": [],
   "source": [
    "# import random\n",
    "# import math\n",
    "import numpy as np\n",
    "np.random.seed(42)\n",
    "from matplotlib import pyplot as plt\n",
    "# from time import sleep\n",
    "import ipywidgets as widgets\n",
    "from ipywidgets import interactive\n",
    "import pickle\n",
    "%matplotlib inline\n",
    "\n",
    "from world import World\n",
    "from managers import Manager_simple, Breeder\n",
    "\n",
    "from agent_simple_random import Agent_simple_random \n",
    "from agent_hemilton_cycle import Agent_hemilton_cycle\n",
    "from genetic import Agent_genetic_3\n",
    "# import genetic_instinct"
   ]
  },
  {
   "cell_type": "markdown",
   "metadata": {},
   "source": [
    "# Basic usage of the framework"
   ]
  },
  {
   "cell_type": "markdown",
   "metadata": {},
   "source": [
    "## Creating a World\n",
    "World is an object which holds the current and past states of the environment and it updates the environment according to the rules. Let's create one:"
   ]
  },
  {
   "cell_type": "code",
   "execution_count": 2,
   "metadata": {},
   "outputs": [
    {
     "data": {
      "text/plain": [
       "                |\n",
       "                |\n",
       "                |\n",
       "  ◯◯            |\n",
       "      ██        |\n",
       "      ░░        |\n",
       "                |\n",
       "                | score=0 steps=0 "
      ]
     },
     "execution_count": 2,
     "metadata": {},
     "output_type": "execute_result"
    }
   ],
   "source": [
    "w = World()\n",
    "w"
   ]
  },
  {
   "cell_type": "markdown",
   "metadata": {},
   "source": [
    "The black square represents the head of the snake, the dotted one is its body and the two circles denote the apple."
   ]
  },
  {
   "cell_type": "markdown",
   "metadata": {},
   "source": [
    "## Play a game in the world\n",
    "We will use `Agent_simple_random` to illustrate the basics.\n",
    "`Agent_simple_random` always goes in the direction of an apple if it sees one. If it doesn't see the apple, it chooses a random direction from those where there isn't an obstacle in a distance of 1."
   ]
  },
  {
   "cell_type": "code",
   "execution_count": 3,
   "metadata": {},
   "outputs": [
    {
     "data": {
      "text/plain": [
       "░░░░            |\n",
       "░░░░            |\n",
       "░░░░            |\n",
       "░░░░            |\n",
       "░░░░            |\n",
       "░░░░░░░░░░░░░░  |\n",
       "                |\n",
       "            ◯◯  | score=15 steps=101  Game Over"
      ]
     },
     "execution_count": 3,
     "metadata": {},
     "output_type": "execute_result"
    }
   ],
   "source": [
    "agent = Agent_simple_random()\n",
    "w.game(agent)\n",
    "w"
   ]
  },
  {
   "cell_type": "markdown",
   "metadata": {},
   "source": [
    "We can now replay the game to see how the agent played. You can move through the game by dragging or arrow keys:"
   ]
  },
  {
   "cell_type": "code",
   "execution_count": 4,
   "metadata": {},
   "outputs": [
    {
     "data": {
      "application/vnd.jupyter.widget-view+json": {
       "model_id": "a9a800e1a8ac49d8958b7c837879e440",
       "version_major": 2,
       "version_minor": 0
      },
      "text/plain": [
       "interactive(children=(IntSlider(value=50, description='step', max=101), Output(layout=Layout(height='450px')))…"
      ]
     },
     "execution_count": 4,
     "metadata": {},
     "output_type": "execute_result"
    }
   ],
   "source": [
    "w.replay()"
   ]
  },
  {
   "cell_type": "markdown",
   "metadata": {},
   "source": [
    "## Use a manager to play multiple games\n",
    "Manager is an object which can run multiple games or train the agents. It can also show the results. We will illustrate its use with `Manager_simple`. "
   ]
  },
  {
   "cell_type": "code",
   "execution_count": 7,
   "metadata": {},
   "outputs": [
    {
     "data": {
      "image/png": "[encoded data removed]",
      "text/plain": [
       "<Figure size 640x480 with 1 Axes>"
      ]
     },
     "metadata": {},
     "output_type": "display_data"
    }
   ],
   "source": [
    "manager = Manager_simple(Agent_simple_random)\n",
    "\n",
    "manager.play_games(10)\n",
    "manager.plot()"
   ]
  },
  {
   "cell_type": "markdown",
   "metadata": {},
   "source": [
    "## Using Breeder to manage genetic agents\n",
    "`Breeder` can breed genetic agents. "
   ]
  },
  {
   "cell_type": "code",
   "execution_count": null,
   "metadata": {},
   "outputs": [],
   "source": [
    "br = Breeder(Agent_genetic_3, n_agents=5)\n",
    "br.games_per_agent = 5"
   ]
  },
  {
   "cell_type": "code",
   "execution_count": null,
   "metadata": {},
   "outputs": [],
   "source": [
    "%%time\n",
    "br.breed(40)"
   ]
  },
  {
   "cell_type": "code",
   "execution_count": null,
   "metadata": {},
   "outputs": [],
   "source": []
  },
  {
   "cell_type": "code",
   "execution_count": null,
   "metadata": {},
   "outputs": [],
   "source": []
  },
  {
   "cell_type": "code",
   "execution_count": null,
   "metadata": {},
   "outputs": [],
   "source": [
    "br.plot()"
   ]
  },
  {
   "cell_type": "code",
   "execution_count": null,
   "metadata": {},
   "outputs": [],
   "source": [
    "plt.plot(br.generation_steps)"
   ]
  },
  {
   "cell_type": "code",
   "execution_count": null,
   "metadata": {},
   "outputs": [],
   "source": [
    "br.agents = np.array([*selected, *b, *(a[:70])])\n",
    "len(br.agents)"
   ]
  },
  {
   "cell_type": "code",
   "execution_count": null,
   "metadata": {},
   "outputs": [],
   "source": [
    "# br.agents"
   ]
  },
  {
   "cell_type": "code",
   "execution_count": null,
   "metadata": {
    "tags": []
   },
   "outputs": [],
   "source": [
    "br_ = copy.deepcopy(br)\n",
    "selected = br_.select_agents()\n",
    "len(selected)"
   ]
  },
  {
   "cell_type": "code",
   "execution_count": null,
   "metadata": {},
   "outputs": [],
   "source": [
    "\n",
    "# # a = br_.agents\n",
    "# pickle.dump(selected, open(\"agents_genetic_1\", \"wb\"))\n",
    "\n",
    "# b = pickle.load(open(\"agents_genetic_1\", \"rb\"))\n",
    "# a = pickle.load(open(\"agents_genetic_120\", \"rb\"))\n",
    "# b = \n",
    "# len(b)\n",
    "# len(a)"
   ]
  },
  {
   "cell_type": "code",
   "execution_count": null,
   "metadata": {},
   "outputs": [],
   "source": [
    "agent = br.agents[20]\n",
    "# w = World()\n",
    "# w.game(agent)\n",
    "\n",
    "# w.replay()"
   ]
  },
  {
   "cell_type": "code",
   "execution_count": null,
   "metadata": {},
   "outputs": [],
   "source": [
    "# # agent = Agent_hemilton_cycle()\n",
    "# agent = Agent_simple_random()\n",
    "# w = World()\n",
    "# w.game(agent)\n",
    "# w \n",
    "\n",
    "# w.replay()"
   ]
  },
  {
   "cell_type": "code",
   "execution_count": null,
   "metadata": {},
   "outputs": [],
   "source": [
    "%matplotlib tk\n",
    "plt.ion()\n",
    "\n",
    "def game(agent, w):\n",
    "        w = World()\n",
    "        fig, ax = plt.subplots()\n",
    "        for i in range(19):\n",
    "            if not w.game_over:\n",
    "                agent_decision = agent.move(*w.view_3_end())\n",
    "                w.step(agent_decision)\n",
    "                ax.matshow(w.obs, origin='upper')\n",
    "                plt.pause(0.01)\n",
    "                sleep(0.01)\n",
    "\n",
    "        # print(f'score {w.score}, steps {w.steps}')\n",
    "        # return w.score, w.steps\n",
    "game(agent, w)"
   ]
  },
  {
   "cell_type": "code",
   "execution_count": null,
   "metadata": {},
   "outputs": [],
   "source": []
  }
 ],
 "metadata": {
  "kernelspec": {
   "display_name": "snake",
   "language": "python",
   "name": "snake"
  },
  "language_info": {
   "codemirror_mode": {
    "name": "ipython",
    "version": 3
   },
   "file_extension": ".py",
   "mimetype": "text/x-python",
   "name": "python",
   "nbconvert_exporter": "python",
   "pygments_lexer": "ipython3",
   "version": "3.9.13"
  }
 },
 "nbformat": 4,
 "nbformat_minor": 4
}
